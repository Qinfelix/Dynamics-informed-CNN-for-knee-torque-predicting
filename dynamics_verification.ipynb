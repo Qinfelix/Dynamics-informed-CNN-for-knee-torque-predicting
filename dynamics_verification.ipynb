{
 "cells": [
  {
   "attachments": {},
   "cell_type": "markdown",
   "metadata": {},
   "source": [
    "# ***先对一个文件进行verification\n"
   ]
  },
  {
   "cell_type": "code",
   "execution_count": null,
   "metadata": {},
   "outputs": [],
   "source": [
    "import numpy as np\n",
    "from Reader import gait_data_reader\n",
    "from utilities import COMPARATOR\n",
    "comparator1=COMPARATOR()\n",
    "reader1=gait_data_reader()\n",
    "import pandas as pd\n",
    "info_dic={}\n",
    "info=pd.read_excel('D:\\\\data\\\\DJO\\\\info.xlsx')\n",
    "for i in range(len(info)):\n",
    "    info_dic[info.loc[i,'编号']]=info.loc[i,'姓名']"
   ]
  },
  {
   "cell_type": "code",
   "execution_count": null,
   "metadata": {},
   "outputs": [],
   "source": [
    "#读取所有的reference data\n",
    "moment_list=reader1.get_data('joint_moment')\n",
    "visit_list=reader1.get_name_week_list(moment_list,info_dic)"
   ]
  },
  {
   "cell_type": "code",
   "execution_count": null,
   "metadata": {},
   "outputs": [],
   "source": [
    "IDgaitdata=reader1.read_motsto('C://Users//DX//Documents//OpenSim//4.4//Projects//KMP//ID//inverse_dynamics.sto')\n",
    "print(IDgaitdata.name,IDgaitdata.week,IDgaitdata.count,IDgaitdata.category,IDgaitdata.data.shape)\n",
    "ID_noadduction=reader1.read_motsto('C://Users//DX//Documents//OpenSim//4.4//Projects//KMP_version3//ID//inverse_dynamics.sto')\n",
    "print(ID_noadduction.name,ID_noadduction.week,ID_noadduction.count,ID_noadduction.category,ID_noadduction.data.shape)"
   ]
  },
  {
   "cell_type": "code",
   "execution_count": null,
   "metadata": {},
   "outputs": [],
   "source": [
    "# print(comparator1.get_rmse_cor(ID_noadduction,moment_list[0],73.5,1.7,'knee_angle_l_moment',1))\n",
    "# print(comparator1.get_rmse_cor(ID_noadduction,moment_list[0],73.5,1.7,'knee_angle_r_moment',1))\n",
    "\n",
    "print(comparator1.get_rmse_cor(IDgaitdata,moment_list[0],73.5,1.7,'knee_flexion_l_moment',1))\n",
    "print(comparator1.get_rmse_cor(IDgaitdata,moment_list[0],73.5,1.7,'knee_flexion_r_moment',1))\n",
    "print(comparator1.get_rmse_cor(IDgaitdata,moment_list[0],73.5,1.7,'knee_adduction_l_moment',1))\n",
    "print(comparator1.get_rmse_cor(IDgaitdata,moment_list[0],73.5,1.7,'knee_adduction_r_moment',1))"
   ]
  },
  {
   "cell_type": "code",
   "execution_count": null,
   "metadata": {},
   "outputs": [],
   "source": [
    "print(comparator1.get_rmse_cor(IDgaitdata,moment_list[0],73.5,1.7,'ankle_angle_l_moment',1))\n",
    "print(comparator1.get_rmse_cor(IDgaitdata,moment_list[0],73.5,1.7,'ankle_angle_r_moment',1))\n",
    "print(comparator1.get_rmse_cor(IDgaitdata,moment_list[0],73.5,1.7,'subtalar_angle_r_moment',1))\n",
    "print(comparator1.get_rmse_cor(IDgaitdata,moment_list[0],73.5,1.7,'subtalar_angle_l_moment',1))"
   ]
  },
  {
   "cell_type": "code",
   "execution_count": null,
   "metadata": {},
   "outputs": [],
   "source": [
    "print(comparator1.get_rmse_cor(IDgaitdata,moment_list[0],73.5,1.7,'hip_flexion_l_moment',1))\n",
    "print(comparator1.get_rmse_cor(IDgaitdata,moment_list[0],73.5,1.7,'hip_flexion_r_moment',1))\n",
    "print(comparator1.get_rmse_cor(IDgaitdata,moment_list[0],73.5,1.7,'hip_adduction_l_moment',1))\n",
    "print(comparator1.get_rmse_cor(IDgaitdata,moment_list[0],73.5,1.7,'hip_adduction_r_moment',1))"
   ]
  },
  {
   "attachments": {},
   "cell_type": "markdown",
   "metadata": {},
   "source": [
    "# ***对700个文件进行dynamics verify的前期准备工作\n"
   ]
  },
  {
   "attachments": {},
   "cell_type": "markdown",
   "metadata": {},
   "source": [
    "## 1.转化得到所有的trc和sto文件\n",
    "下面代码是把所有的grf data 都转化为sto；c2d转化为trc是通过matlab实现的\n",
    "\n",
    "grf_gaitdata_list=reader1.get_data('grf_exp')\n",
    "\n",
    "def grf2sto(gait_data,sample_frequency):\n",
    "    file_name=gait_data.name+'T'+str(gait_data.week)+'W'+str(gait_data.count)+'.sto'\n",
    "    file_path='D:\\\\data\\\\dynamic\\\\grffile\\\\'+file_name\n",
    "    \n",
    "    data=gait_data.data\n",
    "    category=gait_data.category\n",
    "    nRow=data.shape[0]\n",
    "    nColumns=data.shape[1]\n",
    "    nCategories=len(category)\n",
    "    grf_file=open(file_path,'w')\n",
    "    grf_file.write('ground_reaction\\n')\n",
    "    grf_file.write('version=1\\n')\n",
    "    grf_file.write('nRows='+str(nRow)+'\\n')\n",
    "    grf_file.write('nColumns='+str(nColumns+1)+'\\n')\n",
    "    grf_file.write('inDegrees=no\\n')\n",
    "    grf_file.write('endheader\\n')\n",
    "\n",
    "    enheader='time\\t ground_force_l_vx \\t ground_force_l_vy \\t ground_force_l_vz \\t'\n",
    "    enheader+= 'ground_force_l_px \\t ground_force_l_py \\t ground_force_l_pz \\t'\n",
    "    enheader+='ground_torque_l_x \\t ground_torque_l_y \\t ground_torque_l_z \\t'\n",
    "    enheader+='ground_force_r_vx \\t ground_force_r_vy \\t ground_force_r_vz \\t'\n",
    "    enheader+= 'ground_force_r_px \\t ground_force_r_py \\t ground_force_r_pz \\t'\n",
    "    enheader+='ground_torque_r_x \\t ground_torque_r_y \\t ground_torque_r_z \\n'\n",
    "    grf_file.write(enheader)\n",
    "    change_axis_data=np.zeros((nRow,nColumns))\n",
    "    new_data=np.zeros((nRow,nColumns))\n",
    "    change_category_left_first=[0,2,4,1,3,5]\n",
    "    change_category_right_first=[1,3,5,0,2,4]\n",
    "\n",
    "    #先做坐标变换\n",
    "    for i in range(nCategories):\n",
    "        #和trc一致，绕着x轴旋转-90度，再绕着y轴旋转+90度\n",
    "        change_axis_data[:,3*i]= - data[:,3*i+1]\n",
    "        change_axis_data[:,3*i+1]=data[:,3*i+2]\n",
    "        change_axis_data[:,3*i+2]= - data[:,3*i]\n",
    "\n",
    "    #做category的变换\n",
    "    #此时要判断先迈出左脚还是先迈出右脚，看FP1和FP2谁的z方向在\n",
    "    FP1_pz=np.min(change_axis_data[:,8])\n",
    "    FP2_pz=np.min(change_axis_data[:,11])\n",
    "    if FP1_pz<FP2_pz:\n",
    "        change_category_seq=change_category_left_first\n",
    "    else:\n",
    "        change_category_seq=change_category_right_first\n",
    "    \n",
    "    for i in range(6):\n",
    "        ori_index=change_category_seq[i]\n",
    "        new_data[:,3*i:3*i+3]=change_axis_data[:,ori_index*3:ori_index*3+3]\n",
    "    delta=1/sample_frequency\n",
    "    for time_index in range(nRow):\n",
    "        toWrite = str(delta*(time_index))\n",
    "        for angle_index in range(nColumns):\n",
    "            toWrite += '\\t' + str(new_data[time_index,angle_index])\n",
    "        grf_file.write(toWrite + '\\n')\n",
    "    \n",
    "    grf_file.close()\n",
    "    print(file_name+' writing is finished')\n",
    "\n",
    "for grf_gaitdata in grf_gaitdata_list:\n",
    "    grf2sto(grf_gaitdata,1000)\n"
   ]
  },
  {
   "cell_type": "code",
   "execution_count": 4,
   "metadata": {},
   "outputs": [],
   "source": [
    "## 2.从源文件中读取数据存入pkl文件\n",
    "import numpy as np\n",
    "import os\n",
    "import shutil\n",
    "from Reader import gait_data_reader\n",
    "from utilities import COMPARATOR\n",
    "import subprocess\n",
    "import pandas as pd\n",
    "import pickle\n",
    "\n",
    "comparator1=COMPARATOR()\n",
    "reader1=gait_data_reader()\n",
    "\n",
    "# info_dic={}\n",
    "# info=pd.read_excel('D:\\\\data\\\\dynamic\\\\info.xlsx')\n",
    "# for i in range(len(info)):\n",
    "#     info_dic[info.loc[i,'编号']]=info.loc[i,'姓名']\n",
    "# pickle.dump(info_dic,open('info_dic.pkl','wb'))\n",
    "\n",
    "injuryside_dic={}\n",
    "info=pd.read_excel('D:\\\\data\\\\dynamic\\\\info.xlsx')\n",
    "for i in range(len(info)):\n",
    "    injuryside_dic[info.loc[i,'姓名']]=info.loc[i,'患侧']\n",
    "pickle.dump(injuryside_dic,open('injuryside.pkl','wb'))\n",
    "\n",
    "# BWHT_dic={}\n",
    "# BWHT=pd.read_excel('D:\\\\data\\\\dynamic\\\\BWHT.xlsx')\n",
    "# for i in range(len(BWHT)):\n",
    "#     for t in range(4):\n",
    "#         visit=BWHT.loc[i,'编号']+'T'+str(t+1)\n",
    "#         mass=BWHT.loc[i,'T'+str(t+1)+'质量']\n",
    "#         height=BWHT.loc[i,'T'+str(t+1)+'身高'] \n",
    "#         if np.isnan(mass):\n",
    "#             pass\n",
    "#         else:\n",
    "#             BWHT_dic[visit]=(mass,height)\n",
    "# pickle.dump(BWHT_dic,open('BWHT_dic.pkl','wb'))\n",
    "\n",
    "#    #读取所有的reference data并存入pkl文件中\n",
    "   \n",
    "# moment_list=reader1.get_data('joint_moment')\n",
    "# filename='all_moment.pkl'\n",
    "# f=open(filename,'wb')\n",
    "# pickle.dump(moment_list, f)"
   ]
  },
  {
   "attachments": {},
   "cell_type": "markdown",
   "metadata": {},
   "source": [
    "# ***dynamic verify PART\n"
   ]
  },
  {
   "cell_type": "code",
   "execution_count": 1,
   "metadata": {},
   "outputs": [
    {
     "name": "stdout",
     "output_type": "stream",
     "text": [
      "load all_moment_data from pkl file\n",
      "\n",
      " ************************************************** \n",
      "\n",
      "该部分数据中共有 20 位患者，平均每位患者有3.7次回访，共计74次,平均每次回访测试了9.85135135135135趟，共计729趟\n",
      "\n",
      " \n",
      "\n"
     ]
    }
   ],
   "source": [
    "import numpy as np\n",
    "import os\n",
    "import shutil\n",
    "from Reader import gait_data_reader\n",
    "from utilities import COMPARATOR\n",
    "import subprocess\n",
    "import pandas as pd\n",
    "import pickle\n",
    "import xml.dom.minidom\n",
    "\n",
    "comparator1=COMPARATOR()\n",
    "reader1=gait_data_reader()\n",
    "\n",
    "info_dic=pickle.load(open('info_dic.pkl','rb'))\n",
    "BWHT_dic=pickle.load(open('BWHT_dic.pkl','rb'))\n",
    "moment_list=pickle.load(open('all_moment.pkl','rb'))\n",
    "print('load all_moment_data from pkl file')\n",
    "print('\\n','*'*50,'\\n')\n",
    "\n",
    "visit_list=reader1.get_name_week_list(moment_list,info_dic)\n"
   ]
  },
  {
   "cell_type": "code",
   "execution_count": null,
   "metadata": {},
   "outputs": [],
   "source": [
    "#对一个gaitdata进行model计算，并画出图像\n",
    "def dynamic_model_verify(this_moment,plotornot,BWHT_dic,data_category_list):\n",
    "    filename=this_moment.name + 'T'+ str(this_moment.week) + 'W' +str(this_moment.count)\n",
    "    visit=this_moment.name + 'T'+ str(this_moment.week)\n",
    "\n",
    "    print('Begin the dynamics model calculation of No. {} test '.format(filename))\n",
    "    grf_src=r'D:\\\\data\\\\dynamic\\\\grffile\\\\{}.sto'.format(filename)\n",
    "    grf_dst=r'C:\\\\Users\\\\DX\\\\Documents\\\\OpenSim\\\\4.4\\\\Projects\\\\KMP\\\\exp_data\\\\grf.sto'\n",
    "    trc_src=r'D:\\\\data\\\\dynamic\\\\trcfile\\\\{}.trc'.format(filename)\n",
    "    trc_dst=r'C:\\\\Users\\\\DX\\\\Documents\\\\OpenSim\\\\4.4\\\\Projects\\\\KMP\\\\exp_data\\\\motion.trc'\n",
    "\n",
    "    if os.path.exists(grf_src)  and os.path.exists(trc_src):\n",
    "        print('copying the trc and grf file to the opensim folder........')\n",
    "        shutil.copy(grf_src,grf_dst)\n",
    "        shutil.copy(trc_src,trc_dst)\n",
    "        mass=BWHT_dic[visit][0]\n",
    "        height=BWHT_dic[visit][1]\n",
    "\n",
    "        print('scaling the model........')\n",
    "        scale_setup_path=r'C:/Users/DX/Documents/OpenSim/4.4/Projects/KMP/scale_Setup.xml'\n",
    "        #首先将mass写入scale setup文件当中\n",
    "        dom = xml.dom.minidom.parse(scale_setup_path) \n",
    "        root = dom.documentElement \n",
    "        scale_mass = root.getElementsByTagName(\"mass\")\n",
    "        scale_mass[0].firstChild.data=mass\n",
    "        with open(scale_setup_path, 'w',encoding='utf-8') as f:\n",
    "            dom.writexml(f, addindent='  ', encoding='utf-8')\n",
    "        \n",
    "        subprocess.run(r'scale -S C:/Users/DX/Documents/OpenSim/4.4/Projects/KMP/scale_Setup.xml', capture_output=True, text=True)\n",
    "\n",
    "        print('calculating the inverse kinematics of this trc........')\n",
    "        if os.system(r'ik -S C:/Users/DX/Documents/OpenSim/4.4/Projects/KMP/ik_Setup.xml')!=0:\n",
    "            raise RuntimeError('IK tools have runnning ERROR')\n",
    "        \n",
    "        print('calculating the inverse dynamics of this gait........')\n",
    "        if os.system(r'id -S C:/Users/DX/Documents/OpenSim/4.4/Projects/KMP/id_Setup.xml')!=0:\n",
    "            raise RuntimeError('ID tools have runnning ERROR')\n",
    "        \n",
    "        IDgaitdata=reader1.read_motsto('C://Users//DX//Documents//OpenSim//4.4//Projects//KMP//ID//inverse_dynamics.sto')\n",
    "        print('copying the ik_output+id_output file to the dataset........')\n",
    "        ik_output_src=r'C:/Users/DX/Documents/OpenSim/4.4/Projects/KMP/IK_output/ik_output.mot'\n",
    "        ik_output_dst=r'D:\\\\data\\\\dynamic\\\\motfile\\\\{}.mot'.format(filename)\n",
    "        shutil.copy(ik_output_src,ik_output_dst)\n",
    "        id_output_src=r'C:/Users/DX/Documents/OpenSim/4.4/Projects/KMP/ID/inverse_dynamics.sto'\n",
    "        id_output_dst=r'D:\\\\data\\\\dynamic\\\\idfile\\\\{}.sto'.format(filename)\n",
    "        shutil.copy(id_output_src,id_output_dst)\n",
    "\n",
    "        print('Calculation is done! ')\n",
    "        #如何获得每一个visit患者的质量和身高（还是要用dic）\n",
    "\n",
    "        nrmse_list=[]\n",
    "        rmse_list=[]\n",
    "        corr_list=[]\n",
    "\n",
    "        #目前是只对knee_flexion_r_moment做了分析，应该要对所有的data_category都做分析\n",
    "        for data_category in data_category_list:\n",
    "            nrmse, rmse, corr=comparator1.get_nrmse_rmse_cor(IDgaitdata,this_moment,mass,height,data_category,plotornot)\n",
    "            print('NRMSE, RMSE and correlation coefficient of {} between the computed moment and the reference is {} , {} and {}'.format(data_category,nrmse,rmse,corr))\n",
    "            nrmse_list.append(nrmse)\n",
    "            rmse_list.append(rmse)\n",
    "            corr_list.append(corr)\n",
    "\n",
    "        print('\\n','*'*50,'\\n')\n",
    "        return nrmse_list,rmse_list,corr_list\n",
    "\n",
    "    else:\n",
    "        print('there is NO such trc/sto file of this test!')\n",
    "        print('\\n','*'*50,'\\n')\n",
    "        return [-1],[-1],[0]\n",
    "j=60\n",
    "all_data_category=['hip_flexion_l_moment','hip_flexion_r_moment','hip_adduction_l_moment','hip_adduction_r_moment',\n",
    "                    'knee_flexion_l_moment','knee_flexion_r_moment','knee_adduction_l_moment','knee_adduction_r_moment',\n",
    "                    'ankle_angle_l_moment','ankle_angle_r_moment','subtalar_angle_l_moment','subtalar_angle_r_moment']\n",
    "dynamic_model_verify(moment_list[j],1,BWHT_dic,all_data_category)\n"
   ]
  },
  {
   "cell_type": "code",
   "execution_count": null,
   "metadata": {},
   "outputs": [],
   "source": [
    "#对所有的moment都进行计算！\n",
    "all_data_category=['hip_flexion_l_moment','hip_flexion_r_moment','hip_adduction_l_moment','hip_adduction_r_moment',\n",
    "                    'knee_flexion_l_moment','knee_flexion_r_moment','knee_adduction_l_moment','knee_adduction_r_moment',\n",
    "                    'ankle_angle_l_moment','ankle_angle_r_moment','subtalar_angle_l_moment','subtalar_angle_r_moment']\n",
    "all_nrmse=[]\n",
    "all_rmse=[]\n",
    "all_corr=[]\n",
    "\n",
    "for moment in moment_list:\n",
    "    nrmse_list,rmse_list,corr_list=dynamic_model_verify(moment,0,BWHT_dic,all_data_category)\n",
    "    all_nrmse.append(nrmse_list)\n",
    "    all_rmse.append(rmse_list)\n",
    "    all_corr.append(corr_list)\n",
    "\n",
    "    "
   ]
  },
  {
   "attachments": {},
   "cell_type": "markdown",
   "metadata": {},
   "source": [
    "# 分析verify result\n",
    "verify的过程在服务器上跑完了，下面分析verify得到的结果"
   ]
  },
  {
   "cell_type": "code",
   "execution_count": 1,
   "metadata": {},
   "outputs": [
    {
     "name": "stdout",
     "output_type": "stream",
     "text": [
      "729 729 729\n"
     ]
    }
   ],
   "source": [
    "import numpy as np\n",
    "import os\n",
    "import shutil\n",
    "from Reader import gait_data_reader\n",
    "from utilities import COMPARATOR\n",
    "import subprocess\n",
    "import pandas as pd\n",
    "import pickle\n",
    "import xml.dom.minidom\n",
    "import matplotlib.pyplot as plt\n",
    "comparator1=COMPARATOR()\n",
    "reader1=gait_data_reader()\n",
    "\n",
    "info_dic=pickle.load(open('info_dic.pkl','rb'))\n",
    "BWHT_dic=pickle.load(open('BWHT_dic.pkl','rb'))\n",
    "moment_list=pickle.load(open('all_moment.pkl','rb'))\n",
    "\n",
    "\n",
    "all_nrmse=pickle.load(open('../Dynamics_model/verif_result/all_nrmse.pkl','rb'))\n",
    "all_corr=pickle.load(open('../Dynamics_model/verif_result/all_corr.pkl','rb'))\n",
    "all_rmse=pickle.load(open('../Dynamics_model/verif_result/all_rmse.pkl','rb'))\n",
    "print(len(all_rmse),len(all_corr),len(all_nrmse))"
   ]
  },
  {
   "cell_type": "code",
   "execution_count": 6,
   "metadata": {},
   "outputs": [
    {
     "name": "stdout",
     "output_type": "stream",
     "text": [
      "D1M07T1W4\n"
     ]
    },
    {
     "data": {
      "image/png": "[encoded data removed]",
      "text/plain": [
       "<Figure size 640x480 with 1 Axes>"
      ]
     },
     "metadata": {},
     "output_type": "display_data"
    },
    {
     "data": {
      "text/plain": [
       "(0.07689750430435474, 7.687347114284697, 0.9973620468547424)"
      ]
     },
     "execution_count": 6,
     "metadata": {},
     "output_type": "execute_result"
    }
   ],
   "source": [
    "j=0\n",
    "this_moment=moment_list[j]\n",
    "filename=this_moment.name + 'T'+ str(this_moment.week) + 'W' +str(this_moment.count)\n",
    "print(filename)\n",
    "visit=this_moment.name + 'T'+ str(this_moment.week)\n",
    "mass=BWHT_dic[visit][0]\n",
    "height=BWHT_dic[visit][1]\n",
    "ID=reader1.read_motsto(r'D:\\\\data\\\\dynamic\\\\idfile\\\\{}.sto'.format(filename))\n",
    "comparator1.get_nrmse_rmse_cor(ID,this_moment,mass,height,'ankle_angle_r_moment',1)"
   ]
  },
  {
   "cell_type": "code",
   "execution_count": 34,
   "metadata": {},
   "outputs": [
    {
     "name": "stdout",
     "output_type": "stream",
     "text": [
      "(713, 12)\n",
      "(713, 12)\n",
      "(713, 12)\n"
     ]
    }
   ],
   "source": [
    "valid_nrmse=[]\n",
    "for i in range(len(all_nrmse)):\n",
    "    if len(all_nrmse[i])!=12:\n",
    "        # print(all_nrmse[i])\n",
    "        pass\n",
    "    else:\n",
    "        valid_nrmse.append(all_nrmse[i])\n",
    "nrmse=np.array(valid_nrmse,dtype=object)\n",
    "print(nrmse.shape)\n",
    "\n",
    "valid_rmse=[]\n",
    "for i in range(len(all_rmse)):\n",
    "    if len(all_rmse[i])!=12:\n",
    "        # print(all_nrmse[i])\n",
    "        pass\n",
    "    else:\n",
    "        valid_rmse.append(all_rmse[i])\n",
    "rmse=np.array(valid_rmse,dtype=object)\n",
    "print(rmse.shape)\n",
    "\n",
    "\n",
    "valid_corr=[]\n",
    "for i in range(len(all_corr)):\n",
    "    if len(all_corr[i])!=12:\n",
    "        # print(all_nrmse[i])\n",
    "        pass\n",
    "    else:\n",
    "        valid_corr.append(all_corr[i])\n",
    "corr=np.array(valid_corr,dtype=np.float32)\n",
    "print(corr.shape)"
   ]
  },
  {
   "cell_type": "code",
   "execution_count": 35,
   "metadata": {},
   "outputs": [
    {
     "data": {
      "image/png": "[encoded data removed]",
      "text/plain": [
       "<Figure size 640x480 with 1 Axes>"
      ]
     },
     "metadata": {},
     "output_type": "display_data"
    }
   ],
   "source": [
    "all_data_category=['hip_flexion_l_moment','hip_flexion_r_moment','hip_adduction_l_moment','hip_adduction_r_moment',\n",
    "                    'knee_flexion_l_moment','knee_flexion_r_moment','knee_adduction_l_moment','knee_adduction_r_moment',\n",
    "                    'ankle_angle_l_moment','ankle_angle_r_moment','subtalar_angle_l_moment','subtalar_angle_r_moment']\n",
    "\n",
    "j=4\n",
    "plt.plot(corr[:,j],label=all_data_category[j])\n",
    "plt.legend()\n",
    "plt.show()\n",
    "\n"
   ]
  },
  {
   "cell_type": "code",
   "execution_count": 46,
   "metadata": {},
   "outputs": [
    {
     "name": "stdout",
     "output_type": "stream",
     "text": [
      "[0.21666376238281126 0.2020140903393901 0.12775648826747482\n",
      " 0.15011441769969802] \n",
      "\n",
      " [0.72530895 0.7644082  0.9428485  0.9188596 ] \n",
      "\n",
      " [14.524843600177826 14.255220532313183 5.742977984156343 6.018332690086687]\n",
      "\n",
      "\n",
      "\n",
      "\n",
      "\n",
      "[0.12424669453916365, 0.10325350239928291, 0.0824339970633855, 0.07102103777031665] \n",
      "\n",
      " [0.21998195640577783, 0.15201364724049657, 0.07471509341450856, 0.08144312588068572] \n",
      "\n",
      " [6.314157959171821, 5.513047870650207, 4.250976997048092, 4.486004058298045]\n"
     ]
    }
   ],
   "source": [
    "import math\n",
    "nrmse_aver=np.average(nrmse,axis=0)\n",
    "corr_aver=np.average(corr,axis=0)\n",
    "rmse_aver=np.average(rmse,axis=0)\n",
    "nrmse_var=np.var(nrmse,axis=0)\n",
    "corr_var=np.var(corr,axis=0)\n",
    "rmse_var=np.var(rmse,axis=0)\n",
    "nrmse_std=[]\n",
    "rmse_std=[]\n",
    "corr_std=[]\n",
    "\n",
    "for i in range(12):\n",
    "    nrmse_std.append(math.sqrt(nrmse_var[i]))\n",
    "    rmse_std.append(math.sqrt(rmse_var[i]))\n",
    "    corr_std.append(math.sqrt(corr_var[i]))\n",
    "\n",
    "\n",
    "\n",
    "print(nrmse_aver[4:8],'\\n'*2,corr_aver[4:8],'\\n'*2,rmse_aver[4:8])\n",
    "print('\\n'*4)\n",
    "print(nrmse_std[4:8],'\\n'*2,corr_std[4:8],'\\n'*2,rmse_std[4:8])\n"
   ]
  }
 ],
 "metadata": {
  "kernelspec": {
   "display_name": "torch",
   "language": "python",
   "name": "python3"
  },
  "language_info": {
   "codemirror_mode": {
    "name": "ipython",
    "version": 3
   },
   "file_extension": ".py",
   "mimetype": "text/x-python",
   "name": "python",
   "nbconvert_exporter": "python",
   "pygments_lexer": "ipython3",
   "version": "3.9.15"
  },
  "orig_nbformat": 4
 },
 "nbformat": 4,
 "nbformat_minor": 2
}
